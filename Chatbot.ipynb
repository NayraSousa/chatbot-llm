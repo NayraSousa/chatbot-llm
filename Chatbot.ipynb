{
 "cells": [
  {
   "cell_type": "code",
   "execution_count": 78,
   "id": "1942ece3-dfd4-4194-92d9-842e9b1c14d5",
   "metadata": {
    "scrolled": true
   },
   "outputs": [],
   "source": [
    "# !pip install langchain\n",
    "# !pip install langchain_community\n",
    "# !pip install PyPDF\n",
    "# !pip install spacy\n",
    "# !pip install -qU langchain-text-splitters\n",
    "# !pip install langchain_chroma\n",
    "# !pip install -U sentence-transformers\n",
    "# !pip install langchain_huggingface\n",
    "#!pip install gradio"
   ]
  },
  {
   "cell_type": "code",
   "execution_count": 4,
   "id": "fc4b80fc-9936-4eb1-96d3-c844e8ebb742",
   "metadata": {},
   "outputs": [],
   "source": [
    "from langchain_community.document_loaders import PyPDFLoader\n",
    "from langchain_text_splitters import RecursiveCharacterTextSplitter\n",
    "import chromadb\n",
    "from langchain_community.vectorstores import Chroma\n",
    "from langchain_community.embeddings.spacy_embeddings import SpacyEmbeddings\n",
    "from langchain.prompts import ChatPromptTemplate, PromptTemplate\n",
    "from langchain_core.output_parsers import StrOutputParser\n",
    "from langchain_community.chat_models import ChatOllama\n",
    "from langchain_core.runnables import RunnablePassthrough\n",
    "from langchain.retrievers.multi_query import MultiQueryRetriever\n",
    "from langchain.chains import RetrievalQA\n",
    "import gradio as gr\n",
    "\n",
    "client = chromadb.PersistentClient(path='java-vector')\n",
    "collection = client.create_collection(name=\"java-vector\")"
   ]
  },
  {
   "cell_type": "code",
   "execution_count": 5,
   "id": "0fc6d300-7bef-4033-a801-22be782b1ddf",
   "metadata": {},
   "outputs": [],
   "source": [
    "def loader_pdf(path):\n",
    "    loader = PyPDFLoader(path)\n",
    "    return loader.load()"
   ]
  },
  {
   "cell_type": "code",
   "execution_count": 6,
   "id": "4e01d5e7-0b6c-4e97-9307-e0012eca7ac0",
   "metadata": {
    "scrolled": true
   },
   "outputs": [],
   "source": [
    "def processing_text(text):\n",
    "    \n",
    "    texto = []\n",
    "    for i in range(len(text)):\n",
    "        texto.append(text[i].page_content)\n",
    "            \n",
    "    text_splitter = RecursiveCharacterTextSplitter(\n",
    "        chunk_size=1000,\n",
    "        chunk_overlap=0,\n",
    "    )\n",
    "    \n",
    "    texts = text_splitter.split_documents(text)\n",
    "\n",
    "    return texts"
   ]
  },
  {
   "cell_type": "code",
   "execution_count": 7,
   "id": "81431121-d95b-4c87-b2ee-f7aa00f18937",
   "metadata": {},
   "outputs": [],
   "source": [
    "def create_db(text):\n",
    "    vector_db = Chroma.from_documents(\n",
    "        documents=text,\n",
    "        embedding= SpacyEmbeddings(model_name=\"pt_core_news_md\"),\n",
    "        collection_name=\"java-vector\")\n",
    "    return vector_db"
   ]
  },
  {
   "cell_type": "code",
   "execution_count": 13,
   "id": "51656d20-8505-4670-b70f-6e98029813d2",
   "metadata": {},
   "outputs": [],
   "source": [
    "def search_llm(vector_db):\n",
    "    local_model = 'llama2'\n",
    "    llm = ChatOllama(model=local_model)\n",
    "    \n",
    "    retriever = vector_db.as_retriever(search_kwargs={'k': 2})\n",
    "    PROMPT_TEMPLATE = \"\"\"Answer the question based ONLY on the following context in portuguese and concise answer: {context}.\n",
    "    If you don't know the answer, just say that you don't know, don't try to male up an answer.\n",
    "    Question: {question}\"\"\"\n",
    "    \n",
    "    QA_CHAIN_PROMPT = PromptTemplate.from_template(PROMPT_TEMPLATE)\n",
    "    \n",
    "    chain = RetrievalQA.from_chain_type(\n",
    "        llm,\n",
    "        'stuff',\n",
    "        retriever=retriever,\n",
    "        return_source_documents=True,\n",
    "        chain_type_kwargs={'prompt': QA_CHAIN_PROMPT}\n",
    "            )\n",
    "    return chain"
   ]
  },
  {
   "cell_type": "code",
   "execution_count": 14,
   "id": "64c31913-1d06-4370-ab57-a5d5c5ed3280",
   "metadata": {},
   "outputs": [],
   "source": [
    "text = loader_pdf('/home/nayra/Downloads/JavaBasico.pdf')\n",
    "texto_novo = processing_text(text)\n",
    "vector_db = create_db(texto_novo)\n",
    "chain = search_llm(vector_db)"
   ]
  },
  {
   "cell_type": "code",
   "execution_count": null,
   "id": "77394d06-91a7-45ae-b35a-8448e69be51f",
   "metadata": {},
   "outputs": [
    {
     "name": "stdout",
     "output_type": "stream",
     "text": [
      "Running on local URL:  http://127.0.0.1:7860\n",
      "\n",
      "To create a public link, set `share=True` in `launch()`.\n"
     ]
    },
    {
     "data": {
      "text/html": [
       "<div><iframe src=\"http://127.0.0.1:7860/\" width=\"100%\" height=\"500\" allow=\"autoplay; camera; microphone; clipboard-read; clipboard-write;\" frameborder=\"0\" allowfullscreen></iframe></div>"
      ],
      "text/plain": [
       "<IPython.core.display.HTML object>"
      ]
     },
     "metadata": {},
     "output_type": "display_data"
    }
   ],
   "source": [
    "chat_history = []\n",
    "\n",
    "with gr.Blocks() as demo:\n",
    "\n",
    "    chatbot = gr.Chatbot()\n",
    "    msg = gr.Textbox()\n",
    "    clear = gr.Button(\"Clear\")\n",
    "\n",
    "    chat_history = []\n",
    "    \n",
    "    def user(user_message, chat_history):\n",
    "        \n",
    "        # Retorna resposta da LLM, através da sessão de Q&A\n",
    "        result = chain({\"query\": user_message})\n",
    "        \n",
    "        # Realiza um append na tela do chat, contendo a mensagem do usuário e a resposta do modelo\n",
    "        chat_history.append((user_message, result[\"result\"]))\n",
    "\n",
    "        return gr.update(value=\"\"), chat_history\n",
    "    \n",
    "    msg.submit(user, [msg, chatbot], [msg, chatbot], queue=False)\n",
    "    clear.click(lambda: None, None, chatbot, queue=False)\n",
    "\n",
    "if __name__ == \"__main__\":\n",
    "    demo.launch(debug=True)"
   ]
  },
  {
   "cell_type": "code",
   "execution_count": 3,
   "id": "0e8a6478-b35e-4290-9684-e414cfbaf91b",
   "metadata": {},
   "outputs": [],
   "source": [
    "client.delete_collection(name=\"java-vector\")"
   ]
  }
 ],
 "metadata": {
  "kernelspec": {
   "display_name": "Python 3 (ipykernel)",
   "language": "python",
   "name": "python3"
  },
  "language_info": {
   "codemirror_mode": {
    "name": "ipython",
    "version": 3
   },
   "file_extension": ".py",
   "mimetype": "text/x-python",
   "name": "python",
   "nbconvert_exporter": "python",
   "pygments_lexer": "ipython3",
   "version": "3.10.12"
  }
 },
 "nbformat": 4,
 "nbformat_minor": 5
}
